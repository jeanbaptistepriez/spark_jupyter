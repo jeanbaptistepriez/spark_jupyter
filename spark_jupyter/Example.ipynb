{
 "cells": [
  {
   "cell_type": "code",
   "execution_count": 1,
   "metadata": {
    "ExecuteTime": {
     "end_time": "2016-10-19T18:54:19.622394",
     "start_time": "2016-10-19T18:54:19.590323"
    },
    "collapsed": true,
    "run_control": {
     "frozen": false,
     "read_only": false
    }
   },
   "outputs": [],
   "source": [
    "import spark_jupyter"
   ]
  },
  {
   "cell_type": "code",
   "execution_count": 2,
   "metadata": {
    "ExecuteTime": {
     "end_time": "2016-10-19T18:54:22.845997",
     "start_time": "2016-10-19T18:54:20.349257"
    },
    "collapsed": true
   },
   "outputs": [],
   "source": [
    "from pyspark import SparkContext, SQLContext\n",
    "sc = SparkContext(\"local[*]\", \"Simple App\")\n",
    "hc = SQLContext(sc)"
   ]
  },
  {
   "cell_type": "code",
   "execution_count": 3,
   "metadata": {
    "ExecuteTime": {
     "end_time": "2016-10-19T18:54:25.592802",
     "start_time": "2016-10-19T18:54:22.848492"
    },
    "collapsed": false
   },
   "outputs": [
    {
     "data": {
      "text/html": [
       "\n",
       "    <script src='http://johnny.github.io/jquery-sortable/js/jquery-sortable.js'></script>\n",
       "    <table class='table table-striped table-bordered'>\n",
       "        <thead class='sorted_head'>\n",
       "        <tr>\n",
       "        \n",
       "            <th>A</th>\n",
       "        \n",
       "            <th>B</th>\n",
       "        \n",
       "            <th>C</th>\n",
       "        \n",
       "        </tr>\n",
       "        </thead>\n",
       "        <tbody>\n",
       "        \n",
       "        <tr>\n",
       "          \n",
       "            <td align=\"right\"> a </td>\n",
       "          \n",
       "            <td align=\"right\"> b </td>\n",
       "          \n",
       "            <td align=\"right\"> c </td>\n",
       "          \n",
       "        </tr>\n",
       "        \n",
       "        <tr>\n",
       "          \n",
       "            <td align=\"right\"> e </td>\n",
       "          \n",
       "            <td align=\"right\"> f </td>\n",
       "          \n",
       "            <td align=\"right\"> g </td>\n",
       "          \n",
       "        </tr>\n",
       "        \n",
       "        </tbody>\n",
       "    </table>\n",
       "    <script>\n",
       "var oldIndex;\n",
       "$('.sorted_head tr').sortable({\n",
       "  containerSelector: 'tr',\n",
       "  itemSelector: 'th',\n",
       "  placeholder: '<th class=\"placeholder\"/>',\n",
       "  vertical: false,\n",
       "  onDragStart: function ($item, container, _super) {\n",
       "    oldIndex = $item.index();\n",
       "    $item.appendTo($item.parent());\n",
       "    _super($item, container);\n",
       "  },\n",
       "  onDrop: function  ($item, container, _super) {\n",
       "    var field,\n",
       "        newIndex = $item.index();\n",
       "\n",
       "    if(newIndex != oldIndex) {\n",
       "      $item.closest('table').find('tbody tr').each(function (i, row) {\n",
       "        row = $(row);\n",
       "        if(newIndex < oldIndex) {\n",
       "          row.children().eq(newIndex).before(row.children()[oldIndex]);\n",
       "        } else if (newIndex > oldIndex) {\n",
       "          row.children().eq(newIndex).after(row.children()[oldIndex]);\n",
       "        }\n",
       "      });\n",
       "    }\n",
       "\n",
       "    _super($item, container);\n",
       "  }\n",
       "});\n",
       "    </script>\n",
       "    "
      ],
      "text/plain": [
       "+---+---+---+\n",
       "|  A|  B|  C|\n",
       "+---+---+---+\n",
       "|  a|  b|  c|\n",
       "|  e|  f|  g|\n",
       "+---+---+---+"
      ]
     },
     "execution_count": 3,
     "metadata": {},
     "output_type": "execute_result"
    }
   ],
   "source": [
    "hc.createDataFrame([['a', 'b', 'c'],['e', 'f', 'g']], schema=['A', 'B', 'C']).show()"
   ]
  }
 ],
 "metadata": {
  "hide_input": false,
  "kernelspec": {
   "display_name": "Python 2",
   "language": "python",
   "name": "python2"
  },
  "language_info": {
   "codemirror_mode": {
    "name": "ipython",
    "version": 2
   },
   "file_extension": ".py",
   "mimetype": "text/x-python",
   "name": "python",
   "nbconvert_exporter": "python",
   "pygments_lexer": "ipython2",
   "version": "2.7.11"
  },
  "nav_menu": {},
  "toc": {
   "navigate_menu": true,
   "number_sections": true,
   "sideBar": true,
   "threshold": 6,
   "toc_cell": false,
   "toc_section_display": "block",
   "toc_window_display": false
  }
 },
 "nbformat": 4,
 "nbformat_minor": 0
}
